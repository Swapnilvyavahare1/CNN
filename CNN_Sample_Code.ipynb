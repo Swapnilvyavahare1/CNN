{
  "nbformat": 4,
  "nbformat_minor": 0,
  "metadata": {
    "colab": {
      "provenance": []
    },
    "kernelspec": {
      "name": "python3",
      "display_name": "Python 3"
    },
    "language_info": {
      "name": "python"
    },
    "accelerator": "GPU",
    "gpuClass": "standard"
  },
  "cells": [
    {
      "cell_type": "markdown",
      "source": [
        "Case 1- MNIST Dataset"
      ],
      "metadata": {
        "id": "OhjoYxSwhbSO"
      }
    },
    {
      "cell_type": "code",
      "execution_count": 1,
      "metadata": {
        "id": "4rxJiw7zhHAy"
      },
      "outputs": [],
      "source": [
        "import tensorflow as tf\n",
        "from tensorflow import keras\n",
        "from keras.models import Sequential\n",
        "from keras.layers import Dense, Flatten, Conv2D\n",
        "from keras.datasets import mnist"
      ]
    },
    {
      "cell_type": "code",
      "source": [
        "(x_train, y_train),(x_test, y_test)= mnist.load_data()"
      ],
      "metadata": {
        "colab": {
          "base_uri": "https://localhost:8080/"
        },
        "id": "tMsdU7ZUh1Pk",
        "outputId": "db835398-2c13-4237-991c-9c2d8ee02304"
      },
      "execution_count": 2,
      "outputs": [
        {
          "output_type": "stream",
          "name": "stdout",
          "text": [
            "Downloading data from https://storage.googleapis.com/tensorflow/tf-keras-datasets/mnist.npz\n",
            "11490434/11490434 [==============================] - 0s 0us/step\n"
          ]
        }
      ]
    },
    {
      "cell_type": "code",
      "source": [
        "print(x_train.shape, y_train.shape)\n",
        "print(x_test.shape, y_test.shape)"
      ],
      "metadata": {
        "colab": {
          "base_uri": "https://localhost:8080/"
        },
        "id": "J906MkxTiAUz",
        "outputId": "bbd64a09-816a-4eb8-84d9-4cda2f1b2bc4"
      },
      "execution_count": 3,
      "outputs": [
        {
          "output_type": "stream",
          "name": "stdout",
          "text": [
            "(60000, 28, 28) (60000,)\n",
            "(10000, 28, 28) (10000,)\n"
          ]
        }
      ]
    },
    {
      "cell_type": "code",
      "source": [
        "# Preprocessing-Feature scaling\n",
        "x_train= x_train/255.0\n",
        "x_test= x_test/255.0"
      ],
      "metadata": {
        "id": "vQPbQca7iJgV"
      },
      "execution_count": 4,
      "outputs": []
    },
    {
      "cell_type": "code",
      "source": [
        "# API\n",
        "model= Sequential()\n",
        "\n",
        "# CNN- No padding\n",
        "model.add(Conv2D(32, kernel_size=(3,3), padding='valid', activation='relu', input_shape=(28,28,1)))\n",
        "model.add(Conv2D(32, kernel_size=(3,3), padding='valid', activation='relu'))\n",
        "model.add(Conv2D(32, kernel_size=(3,3), padding='valid', activation='relu'))\n",
        "\n",
        "# DNN\n",
        "model.add(Flatten())\n",
        "model.add(Dense(128, activation='relu'))\n",
        "model.add(Dense(10, activation='softmax'))\n",
        "model.summary()"
      ],
      "metadata": {
        "colab": {
          "base_uri": "https://localhost:8080/"
        },
        "id": "GjroCmjDiWpc",
        "outputId": "ccc69b35-6787-41a4-80fc-eb164ed0acf4"
      },
      "execution_count": 5,
      "outputs": [
        {
          "output_type": "stream",
          "name": "stdout",
          "text": [
            "Model: \"sequential\"\n",
            "_________________________________________________________________\n",
            " Layer (type)                Output Shape              Param #   \n",
            "=================================================================\n",
            " conv2d (Conv2D)             (None, 26, 26, 32)        320       \n",
            "                                                                 \n",
            " conv2d_1 (Conv2D)           (None, 24, 24, 32)        9248      \n",
            "                                                                 \n",
            " conv2d_2 (Conv2D)           (None, 22, 22, 32)        9248      \n",
            "                                                                 \n",
            " flatten (Flatten)           (None, 15488)             0         \n",
            "                                                                 \n",
            " dense (Dense)               (None, 128)               1982592   \n",
            "                                                                 \n",
            " dense_1 (Dense)             (None, 10)                1290      \n",
            "                                                                 \n",
            "=================================================================\n",
            "Total params: 2,002,698\n",
            "Trainable params: 2,002,698\n",
            "Non-trainable params: 0\n",
            "_________________________________________________________________\n"
          ]
        }
      ]
    },
    {
      "cell_type": "code",
      "source": [
        "# API\n",
        "model1= Sequential()\n",
        "\n",
        "# CNN- Zero Padding\n",
        "model1.add(Conv2D(32, kernel_size=(3,3), padding='same', activation='relu', input_shape=(28,28,1)))\n",
        "model1.add(Conv2D(32, kernel_size=(3,3), padding='same', activation='relu'))\n",
        "model1.add(Conv2D(32, kernel_size=(3,3), padding='same', activation='relu'))\n",
        "\n",
        "# DNN\n",
        "model1.add(Flatten())\n",
        "model1.add(Dense(128, activation='relu'))\n",
        "model1.add(Dense(10, activation='softmax'))\n",
        "model1.summary()"
      ],
      "metadata": {
        "colab": {
          "base_uri": "https://localhost:8080/"
        },
        "id": "KPMJMxSUk2OR",
        "outputId": "9954e252-949c-46ab-f36f-25534cd88f24"
      },
      "execution_count": 6,
      "outputs": [
        {
          "output_type": "stream",
          "name": "stdout",
          "text": [
            "Model: \"sequential_1\"\n",
            "_________________________________________________________________\n",
            " Layer (type)                Output Shape              Param #   \n",
            "=================================================================\n",
            " conv2d_3 (Conv2D)           (None, 28, 28, 32)        320       \n",
            "                                                                 \n",
            " conv2d_4 (Conv2D)           (None, 28, 28, 32)        9248      \n",
            "                                                                 \n",
            " conv2d_5 (Conv2D)           (None, 28, 28, 32)        9248      \n",
            "                                                                 \n",
            " flatten_1 (Flatten)         (None, 25088)             0         \n",
            "                                                                 \n",
            " dense_2 (Dense)             (None, 128)               3211392   \n",
            "                                                                 \n",
            " dense_3 (Dense)             (None, 10)                1290      \n",
            "                                                                 \n",
            "=================================================================\n",
            "Total params: 3,231,498\n",
            "Trainable params: 3,231,498\n",
            "Non-trainable params: 0\n",
            "_________________________________________________________________\n"
          ]
        }
      ]
    },
    {
      "cell_type": "code",
      "source": [
        "model1.compile(optimizer='adam', loss=keras.losses.SparseCategoricalCrossentropy(from_logits=True), metrics=['accuracy'])"
      ],
      "metadata": {
        "id": "daG6GAY8lcgB"
      },
      "execution_count": 11,
      "outputs": []
    },
    {
      "cell_type": "code",
      "source": [
        "model1.fit(x_train, y_train, validation_data=(x_test, y_test), epochs=20)"
      ],
      "metadata": {
        "colab": {
          "base_uri": "https://localhost:8080/"
        },
        "id": "yZx2ATJpmaRj",
        "outputId": "e4fe3fbe-a61f-4ef0-c4c2-68eb2f04399a"
      },
      "execution_count": 12,
      "outputs": [
        {
          "output_type": "stream",
          "name": "stdout",
          "text": [
            "Epoch 1/20\n"
          ]
        },
        {
          "output_type": "stream",
          "name": "stderr",
          "text": [
            "/usr/local/lib/python3.9/dist-packages/keras/backend.py:5612: UserWarning: \"`sparse_categorical_crossentropy` received `from_logits=True`, but the `output` argument was produced by a Softmax activation and thus does not represent logits. Was this intended?\n",
            "  output, from_logits = _get_logits(\n"
          ]
        },
        {
          "output_type": "stream",
          "name": "stdout",
          "text": [
            "1875/1875 [==============================] - 20s 5ms/step - loss: 0.1146 - accuracy: 0.9655 - val_loss: 0.0416 - val_accuracy: 0.9858\n",
            "Epoch 2/20\n",
            "1875/1875 [==============================] - 8s 4ms/step - loss: 0.0389 - accuracy: 0.9883 - val_loss: 0.0362 - val_accuracy: 0.9883\n",
            "Epoch 3/20\n",
            "1875/1875 [==============================] - 9s 5ms/step - loss: 0.0258 - accuracy: 0.9917 - val_loss: 0.0407 - val_accuracy: 0.9873\n",
            "Epoch 4/20\n",
            "1875/1875 [==============================] - 8s 5ms/step - loss: 0.0167 - accuracy: 0.9945 - val_loss: 0.0394 - val_accuracy: 0.9885\n",
            "Epoch 5/20\n",
            "1875/1875 [==============================] - 9s 5ms/step - loss: 0.0118 - accuracy: 0.9961 - val_loss: 0.0430 - val_accuracy: 0.9904\n",
            "Epoch 6/20\n",
            "1875/1875 [==============================] - 10s 5ms/step - loss: 0.0097 - accuracy: 0.9970 - val_loss: 0.0452 - val_accuracy: 0.9892\n",
            "Epoch 7/20\n",
            "1875/1875 [==============================] - 11s 6ms/step - loss: 0.0069 - accuracy: 0.9977 - val_loss: 0.0463 - val_accuracy: 0.9886\n",
            "Epoch 8/20\n",
            "1875/1875 [==============================] - 9s 5ms/step - loss: 0.0061 - accuracy: 0.9980 - val_loss: 0.0579 - val_accuracy: 0.9885\n",
            "Epoch 9/20\n",
            "1875/1875 [==============================] - 10s 5ms/step - loss: 0.0057 - accuracy: 0.9983 - val_loss: 0.0439 - val_accuracy: 0.9895\n",
            "Epoch 10/20\n",
            "1875/1875 [==============================] - 8s 4ms/step - loss: 0.0052 - accuracy: 0.9984 - val_loss: 0.0572 - val_accuracy: 0.9895\n",
            "Epoch 11/20\n",
            "1875/1875 [==============================] - 9s 5ms/step - loss: 0.0043 - accuracy: 0.9985 - val_loss: 0.0495 - val_accuracy: 0.9918\n",
            "Epoch 12/20\n",
            "1875/1875 [==============================] - 9s 5ms/step - loss: 0.0041 - accuracy: 0.9987 - val_loss: 0.0679 - val_accuracy: 0.9866\n",
            "Epoch 13/20\n",
            "1875/1875 [==============================] - 8s 4ms/step - loss: 0.0035 - accuracy: 0.9990 - val_loss: 0.0657 - val_accuracy: 0.9900\n",
            "Epoch 14/20\n",
            "1875/1875 [==============================] - 9s 5ms/step - loss: 0.0032 - accuracy: 0.9990 - val_loss: 0.0621 - val_accuracy: 0.9899\n",
            "Epoch 15/20\n",
            "1875/1875 [==============================] - 9s 5ms/step - loss: 0.0044 - accuracy: 0.9988 - val_loss: 0.0598 - val_accuracy: 0.9903\n",
            "Epoch 16/20\n",
            "1875/1875 [==============================] - 8s 4ms/step - loss: 0.0043 - accuracy: 0.9988 - val_loss: 0.0742 - val_accuracy: 0.9886\n",
            "Epoch 17/20\n",
            "1875/1875 [==============================] - 9s 5ms/step - loss: 0.0022 - accuracy: 0.9995 - val_loss: 0.0847 - val_accuracy: 0.9863\n",
            "Epoch 18/20\n",
            "1875/1875 [==============================] - 9s 5ms/step - loss: 0.0047 - accuracy: 0.9988 - val_loss: 0.0941 - val_accuracy: 0.9883\n",
            "Epoch 19/20\n",
            "1875/1875 [==============================] - 9s 5ms/step - loss: 0.0040 - accuracy: 0.9989 - val_loss: 0.1048 - val_accuracy: 0.9881\n",
            "Epoch 20/20\n",
            "1875/1875 [==============================] - 9s 5ms/step - loss: 0.0014 - accuracy: 0.9996 - val_loss: 0.0939 - val_accuracy: 0.9877\n"
          ]
        },
        {
          "output_type": "execute_result",
          "data": {
            "text/plain": [
              "<keras.callbacks.History at 0x7f2c00133c70>"
            ]
          },
          "metadata": {},
          "execution_count": 12
        }
      ]
    },
    {
      "cell_type": "markdown",
      "source": [
        "Case 2- CIFAR10 Dataset"
      ],
      "metadata": {
        "id": "pf8rwV-Gns1I"
      }
    },
    {
      "cell_type": "code",
      "source": [
        "from keras.datasets import cifar10"
      ],
      "metadata": {
        "id": "-C0n_mAuoGyQ"
      },
      "execution_count": 14,
      "outputs": []
    },
    {
      "cell_type": "code",
      "source": [
        "(x_train, y_train),(x_test, y_test)= cifar10.load_data()"
      ],
      "metadata": {
        "colab": {
          "base_uri": "https://localhost:8080/"
        },
        "id": "r08xy6vPnqIw",
        "outputId": "3500fa9e-0259-4e45-e077-9ef0150418ec"
      },
      "execution_count": 15,
      "outputs": [
        {
          "output_type": "stream",
          "name": "stdout",
          "text": [
            "Downloading data from https://www.cs.toronto.edu/~kriz/cifar-10-python.tar.gz\n",
            "170498071/170498071 [==============================] - 2s 0us/step\n"
          ]
        }
      ]
    },
    {
      "cell_type": "code",
      "source": [
        "print(x_train.shape, y_train.shape)\n",
        "print(x_test.shape, y_test.shape)"
      ],
      "metadata": {
        "colab": {
          "base_uri": "https://localhost:8080/"
        },
        "id": "eEHVA2Een-MZ",
        "outputId": "83d6907a-cc99-4fc2-aabb-891471e0934f"
      },
      "execution_count": 16,
      "outputs": [
        {
          "output_type": "stream",
          "name": "stdout",
          "text": [
            "(50000, 32, 32, 3) (50000, 1)\n",
            "(10000, 32, 32, 3) (10000, 1)\n"
          ]
        }
      ]
    },
    {
      "cell_type": "code",
      "source": [
        "# Preprocessing-Feature scaling\n",
        "x_train= x_train/255.0\n",
        "x_test= x_test/255.0"
      ],
      "metadata": {
        "id": "iKnwloIWoSSy"
      },
      "execution_count": 17,
      "outputs": []
    },
    {
      "cell_type": "code",
      "source": [
        "# API\n",
        "model2= Sequential()\n",
        "\n",
        "# CNN- Zero Padding\n",
        "model2.add(Conv2D(32, kernel_size=(3,3), padding='same', activation='relu', input_shape=(32,32,3)))\n",
        "model2.add(Conv2D(32, kernel_size=(3,3), padding='same', activation='relu'))\n",
        "model2.add(Conv2D(32, kernel_size=(3,3), padding='same', activation='relu'))\n",
        "\n",
        "# DNN\n",
        "model2.add(Flatten())\n",
        "model2.add(Dense(128, activation='relu'))\n",
        "model2.add(Dense(10, activation='softmax'))\n",
        "model2.summary()"
      ],
      "metadata": {
        "colab": {
          "base_uri": "https://localhost:8080/"
        },
        "id": "0MqqZ8kvoXrw",
        "outputId": "6cfa3942-7f17-48a6-df9e-d62de796a45b"
      },
      "execution_count": 18,
      "outputs": [
        {
          "output_type": "stream",
          "name": "stdout",
          "text": [
            "Model: \"sequential_2\"\n",
            "_________________________________________________________________\n",
            " Layer (type)                Output Shape              Param #   \n",
            "=================================================================\n",
            " conv2d_6 (Conv2D)           (None, 32, 32, 32)        896       \n",
            "                                                                 \n",
            " conv2d_7 (Conv2D)           (None, 32, 32, 32)        9248      \n",
            "                                                                 \n",
            " conv2d_8 (Conv2D)           (None, 32, 32, 32)        9248      \n",
            "                                                                 \n",
            " flatten_2 (Flatten)         (None, 32768)             0         \n",
            "                                                                 \n",
            " dense_4 (Dense)             (None, 128)               4194432   \n",
            "                                                                 \n",
            " dense_5 (Dense)             (None, 10)                1290      \n",
            "                                                                 \n",
            "=================================================================\n",
            "Total params: 4,215,114\n",
            "Trainable params: 4,215,114\n",
            "Non-trainable params: 0\n",
            "_________________________________________________________________\n"
          ]
        }
      ]
    },
    {
      "cell_type": "code",
      "source": [
        "model2.compile(optimizer='adam', loss=keras.losses.SparseCategoricalCrossentropy(from_logits=True), metrics=['accuracy'])"
      ],
      "metadata": {
        "id": "iqMsBmxFo1lr"
      },
      "execution_count": 19,
      "outputs": []
    },
    {
      "cell_type": "code",
      "source": [
        "model2.fit(x_train, y_train, validation_data=(x_test, y_test), batch_size=32, epochs=20)"
      ],
      "metadata": {
        "colab": {
          "base_uri": "https://localhost:8080/"
        },
        "id": "y02cEBrjo6Vh",
        "outputId": "352d7d0f-483d-49f2-b4c0-8093df6fcc7a"
      },
      "execution_count": 21,
      "outputs": [
        {
          "output_type": "stream",
          "name": "stdout",
          "text": [
            "Epoch 1/20\n",
            "1563/1563 [==============================] - 9s 6ms/step - loss: 0.6422 - accuracy: 0.7787 - val_loss: 0.9801 - val_accuracy: 0.6715\n",
            "Epoch 2/20\n",
            "1563/1563 [==============================] - 9s 6ms/step - loss: 0.4552 - accuracy: 0.8415 - val_loss: 1.1754 - val_accuracy: 0.6473\n",
            "Epoch 3/20\n",
            "1563/1563 [==============================] - 9s 6ms/step - loss: 0.2922 - accuracy: 0.8995 - val_loss: 1.3952 - val_accuracy: 0.6397\n",
            "Epoch 4/20\n",
            "1563/1563 [==============================] - 9s 6ms/step - loss: 0.1927 - accuracy: 0.9344 - val_loss: 1.7811 - val_accuracy: 0.6425\n",
            "Epoch 5/20\n",
            "1563/1563 [==============================] - 9s 6ms/step - loss: 0.1391 - accuracy: 0.9516 - val_loss: 2.0379 - val_accuracy: 0.6247\n",
            "Epoch 6/20\n",
            "1563/1563 [==============================] - 9s 6ms/step - loss: 0.1113 - accuracy: 0.9614 - val_loss: 2.3564 - val_accuracy: 0.6131\n",
            "Epoch 7/20\n",
            "1563/1563 [==============================] - 10s 6ms/step - loss: 0.0977 - accuracy: 0.9674 - val_loss: 2.5777 - val_accuracy: 0.6308\n",
            "Epoch 8/20\n",
            "1563/1563 [==============================] - 9s 6ms/step - loss: 0.0823 - accuracy: 0.9722 - val_loss: 2.7626 - val_accuracy: 0.6193\n",
            "Epoch 9/20\n",
            "1563/1563 [==============================] - 9s 6ms/step - loss: 0.0810 - accuracy: 0.9730 - val_loss: 2.6968 - val_accuracy: 0.6204\n",
            "Epoch 10/20\n",
            "1563/1563 [==============================] - 9s 6ms/step - loss: 0.0731 - accuracy: 0.9755 - val_loss: 3.0822 - val_accuracy: 0.6279\n",
            "Epoch 11/20\n",
            "1563/1563 [==============================] - 10s 6ms/step - loss: 0.0707 - accuracy: 0.9760 - val_loss: 3.1629 - val_accuracy: 0.6144\n",
            "Epoch 12/20\n",
            "1563/1563 [==============================] - 10s 6ms/step - loss: 0.0665 - accuracy: 0.9783 - val_loss: 3.0602 - val_accuracy: 0.6195\n",
            "Epoch 13/20\n",
            "1563/1563 [==============================] - 9s 6ms/step - loss: 0.0585 - accuracy: 0.9808 - val_loss: 3.1861 - val_accuracy: 0.6229\n",
            "Epoch 14/20\n",
            "1563/1563 [==============================] - 9s 6ms/step - loss: 0.0615 - accuracy: 0.9795 - val_loss: 3.4784 - val_accuracy: 0.6143\n",
            "Epoch 15/20\n",
            "1563/1563 [==============================] - 10s 6ms/step - loss: 0.0495 - accuracy: 0.9837 - val_loss: 3.4548 - val_accuracy: 0.6170\n",
            "Epoch 16/20\n",
            "1563/1563 [==============================] - 9s 6ms/step - loss: 0.0616 - accuracy: 0.9804 - val_loss: 3.5484 - val_accuracy: 0.6235\n",
            "Epoch 17/20\n",
            "1563/1563 [==============================] - 9s 5ms/step - loss: 0.0535 - accuracy: 0.9831 - val_loss: 3.7774 - val_accuracy: 0.6119\n",
            "Epoch 18/20\n",
            "1563/1563 [==============================] - 10s 6ms/step - loss: 0.0525 - accuracy: 0.9834 - val_loss: 3.6657 - val_accuracy: 0.6143\n",
            "Epoch 19/20\n",
            "1563/1563 [==============================] - 9s 6ms/step - loss: 0.0522 - accuracy: 0.9834 - val_loss: 3.5457 - val_accuracy: 0.6187\n",
            "Epoch 20/20\n",
            "1563/1563 [==============================] - 9s 6ms/step - loss: 0.0487 - accuracy: 0.9854 - val_loss: 3.8307 - val_accuracy: 0.6209\n"
          ]
        },
        {
          "output_type": "execute_result",
          "data": {
            "text/plain": [
              "<keras.callbacks.History at 0x7f2c00319b50>"
            ]
          },
          "metadata": {},
          "execution_count": 21
        }
      ]
    },
    {
      "cell_type": "code",
      "source": [
        "from keras.layers import MaxPooling2D"
      ],
      "metadata": {
        "id": "g1So7_Kkq38x"
      },
      "execution_count": 22,
      "outputs": []
    },
    {
      "cell_type": "code",
      "source": [
        "# API\n",
        "model3= Sequential()\n",
        "\n",
        "# CNN- Zero Padding- MaxPooling\n",
        "model3.add(Conv2D(32, kernel_size=(3,3), padding='same', activation='relu', input_shape=(32,32,3)))\n",
        "model3.add(MaxPooling2D(2,2))\n",
        "model3.add(Conv2D(32, kernel_size=(3,3), padding='same', activation='relu'))\n",
        "model3.add(MaxPooling2D(2,2))\n",
        "model3.add(Conv2D(32, kernel_size=(3,3), padding='same', activation='relu'))\n",
        "\n",
        "# DNN\n",
        "model3.add(Flatten())\n",
        "model3.add(Dense(128, activation='relu'))\n",
        "model3.add(Dense(10, activation='softmax'))\n",
        "model3.summary()"
      ],
      "metadata": {
        "colab": {
          "base_uri": "https://localhost:8080/"
        },
        "id": "yFAkU5zgqfaZ",
        "outputId": "6e1b59a6-60c1-4c61-9c4a-40d67126eaa5"
      },
      "execution_count": 23,
      "outputs": [
        {
          "output_type": "stream",
          "name": "stdout",
          "text": [
            "Model: \"sequential_3\"\n",
            "_________________________________________________________________\n",
            " Layer (type)                Output Shape              Param #   \n",
            "=================================================================\n",
            " conv2d_9 (Conv2D)           (None, 32, 32, 32)        896       \n",
            "                                                                 \n",
            " max_pooling2d (MaxPooling2D  (None, 16, 16, 32)       0         \n",
            " )                                                               \n",
            "                                                                 \n",
            " conv2d_10 (Conv2D)          (None, 16, 16, 32)        9248      \n",
            "                                                                 \n",
            " max_pooling2d_1 (MaxPooling  (None, 8, 8, 32)         0         \n",
            " 2D)                                                             \n",
            "                                                                 \n",
            " conv2d_11 (Conv2D)          (None, 8, 8, 32)          9248      \n",
            "                                                                 \n",
            " flatten_3 (Flatten)         (None, 2048)              0         \n",
            "                                                                 \n",
            " dense_6 (Dense)             (None, 128)               262272    \n",
            "                                                                 \n",
            " dense_7 (Dense)             (None, 10)                1290      \n",
            "                                                                 \n",
            "=================================================================\n",
            "Total params: 282,954\n",
            "Trainable params: 282,954\n",
            "Non-trainable params: 0\n",
            "_________________________________________________________________\n"
          ]
        }
      ]
    },
    {
      "cell_type": "code",
      "source": [
        "model3.compile(optimizer='adam', loss=keras.losses.SparseCategoricalCrossentropy(from_logits=True), metrics=['accuracy'])"
      ],
      "metadata": {
        "id": "qgKAcfO8q_mH"
      },
      "execution_count": 24,
      "outputs": []
    },
    {
      "cell_type": "code",
      "source": [
        "model3.fit(x_train, y_train, validation_data=(x_test, y_test), batch_size=32, epochs=20)"
      ],
      "metadata": {
        "colab": {
          "base_uri": "https://localhost:8080/"
        },
        "id": "-76zhoTqrFoY",
        "outputId": "830022f8-5470-4ccf-80e0-7a87962455d7"
      },
      "execution_count": 25,
      "outputs": [
        {
          "output_type": "stream",
          "name": "stdout",
          "text": [
            "Epoch 1/20\n"
          ]
        },
        {
          "output_type": "stream",
          "name": "stderr",
          "text": [
            "/usr/local/lib/python3.9/dist-packages/keras/backend.py:5612: UserWarning: \"`sparse_categorical_crossentropy` received `from_logits=True`, but the `output` argument was produced by a Softmax activation and thus does not represent logits. Was this intended?\n",
            "  output, from_logits = _get_logits(\n"
          ]
        },
        {
          "output_type": "stream",
          "name": "stdout",
          "text": [
            "1563/1563 [==============================] - 11s 6ms/step - loss: 1.4165 - accuracy: 0.4893 - val_loss: 1.1358 - val_accuracy: 0.5997\n",
            "Epoch 2/20\n",
            "1563/1563 [==============================] - 8s 5ms/step - loss: 1.0251 - accuracy: 0.6389 - val_loss: 0.9508 - val_accuracy: 0.6679\n",
            "Epoch 3/20\n",
            "1563/1563 [==============================] - 7s 5ms/step - loss: 0.8723 - accuracy: 0.6944 - val_loss: 0.8838 - val_accuracy: 0.6891\n",
            "Epoch 4/20\n",
            "1563/1563 [==============================] - 9s 6ms/step - loss: 0.7623 - accuracy: 0.7319 - val_loss: 0.8787 - val_accuracy: 0.6936\n",
            "Epoch 5/20\n",
            "1563/1563 [==============================] - 9s 6ms/step - loss: 0.6745 - accuracy: 0.7606 - val_loss: 0.8594 - val_accuracy: 0.7052\n",
            "Epoch 6/20\n",
            "1563/1563 [==============================] - 7s 5ms/step - loss: 0.5985 - accuracy: 0.7878 - val_loss: 0.8700 - val_accuracy: 0.7035\n",
            "Epoch 7/20\n",
            "1563/1563 [==============================] - 8s 5ms/step - loss: 0.5213 - accuracy: 0.8150 - val_loss: 0.9369 - val_accuracy: 0.7024\n",
            "Epoch 8/20\n",
            "1563/1563 [==============================] - 8s 5ms/step - loss: 0.4561 - accuracy: 0.8384 - val_loss: 0.9225 - val_accuracy: 0.7130\n",
            "Epoch 9/20\n",
            "1563/1563 [==============================] - 7s 5ms/step - loss: 0.3882 - accuracy: 0.8628 - val_loss: 1.0111 - val_accuracy: 0.7104\n",
            "Epoch 10/20\n",
            "1563/1563 [==============================] - 8s 5ms/step - loss: 0.3310 - accuracy: 0.8826 - val_loss: 1.0811 - val_accuracy: 0.7105\n",
            "Epoch 11/20\n",
            "1563/1563 [==============================] - 7s 5ms/step - loss: 0.2830 - accuracy: 0.8998 - val_loss: 1.1632 - val_accuracy: 0.7003\n",
            "Epoch 12/20\n",
            "1563/1563 [==============================] - 8s 5ms/step - loss: 0.2422 - accuracy: 0.9129 - val_loss: 1.3617 - val_accuracy: 0.6922\n",
            "Epoch 13/20\n",
            "1563/1563 [==============================] - 8s 5ms/step - loss: 0.2040 - accuracy: 0.9277 - val_loss: 1.4562 - val_accuracy: 0.6914\n",
            "Epoch 14/20\n",
            "1563/1563 [==============================] - 7s 5ms/step - loss: 0.1861 - accuracy: 0.9335 - val_loss: 1.5793 - val_accuracy: 0.6840\n",
            "Epoch 15/20\n",
            "1563/1563 [==============================] - 8s 5ms/step - loss: 0.1650 - accuracy: 0.9409 - val_loss: 1.6594 - val_accuracy: 0.6895\n",
            "Epoch 16/20\n",
            "1563/1563 [==============================] - 8s 5ms/step - loss: 0.1527 - accuracy: 0.9446 - val_loss: 1.8870 - val_accuracy: 0.6726\n",
            "Epoch 17/20\n",
            "1563/1563 [==============================] - 8s 5ms/step - loss: 0.1332 - accuracy: 0.9534 - val_loss: 1.9630 - val_accuracy: 0.6796\n",
            "Epoch 18/20\n",
            "1563/1563 [==============================] - 8s 5ms/step - loss: 0.1300 - accuracy: 0.9537 - val_loss: 1.9231 - val_accuracy: 0.6916\n",
            "Epoch 19/20\n",
            "1563/1563 [==============================] - 8s 5ms/step - loss: 0.1265 - accuracy: 0.9548 - val_loss: 2.1299 - val_accuracy: 0.6876\n",
            "Epoch 20/20\n",
            "1563/1563 [==============================] - 7s 5ms/step - loss: 0.1161 - accuracy: 0.9595 - val_loss: 2.0681 - val_accuracy: 0.6861\n"
          ]
        },
        {
          "output_type": "execute_result",
          "data": {
            "text/plain": [
              "<keras.callbacks.History at 0x7f2c13b56ca0>"
            ]
          },
          "metadata": {},
          "execution_count": 25
        }
      ]
    },
    {
      "cell_type": "code",
      "source": [
        "# API\n",
        "model4= Sequential()\n",
        "\n",
        "# CNN- Zero Padding- MaxPooling- Filter 64\n",
        "model4.add(Conv2D(64, kernel_size=(3,3), activation='relu', input_shape=(32,32,3)))\n",
        "model4.add(MaxPooling2D(2,2))\n",
        "model4.add(Conv2D(64, kernel_size=(3,3), activation='relu'))\n",
        "model4.add(MaxPooling2D(2,2))\n",
        "model4.add(Conv2D(64, kernel_size=(3,3),  activation='relu'))\n",
        "\n",
        "# DNN- Number of neurons 64\n",
        "model4.add(Flatten())\n",
        "model4.add(Dense(64, activation='relu'))\n",
        "model4.add(Dense(10, activation='softmax'))\n",
        "model4.summary()"
      ],
      "metadata": {
        "colab": {
          "base_uri": "https://localhost:8080/"
        },
        "id": "bewDcs0Fr06Q",
        "outputId": "6419e08f-237a-472a-a983-04fd14403d00"
      },
      "execution_count": 26,
      "outputs": [
        {
          "output_type": "stream",
          "name": "stdout",
          "text": [
            "Model: \"sequential_4\"\n",
            "_________________________________________________________________\n",
            " Layer (type)                Output Shape              Param #   \n",
            "=================================================================\n",
            " conv2d_12 (Conv2D)          (None, 30, 30, 64)        1792      \n",
            "                                                                 \n",
            " max_pooling2d_2 (MaxPooling  (None, 15, 15, 64)       0         \n",
            " 2D)                                                             \n",
            "                                                                 \n",
            " conv2d_13 (Conv2D)          (None, 13, 13, 64)        36928     \n",
            "                                                                 \n",
            " max_pooling2d_3 (MaxPooling  (None, 6, 6, 64)         0         \n",
            " 2D)                                                             \n",
            "                                                                 \n",
            " conv2d_14 (Conv2D)          (None, 4, 4, 64)          36928     \n",
            "                                                                 \n",
            " flatten_4 (Flatten)         (None, 1024)              0         \n",
            "                                                                 \n",
            " dense_8 (Dense)             (None, 64)                65600     \n",
            "                                                                 \n",
            " dense_9 (Dense)             (None, 10)                650       \n",
            "                                                                 \n",
            "=================================================================\n",
            "Total params: 141,898\n",
            "Trainable params: 141,898\n",
            "Non-trainable params: 0\n",
            "_________________________________________________________________\n"
          ]
        }
      ]
    },
    {
      "cell_type": "code",
      "source": [
        "model4.compile(optimizer='adam', loss=keras.losses.SparseCategoricalCrossentropy(from_logits=True), metrics=['accuracy'])"
      ],
      "metadata": {
        "id": "_ahcexPRsLlf"
      },
      "execution_count": 27,
      "outputs": []
    },
    {
      "cell_type": "code",
      "source": [
        "model4.fit(x_train, y_train, validation_data=(x_test, y_test), batch_size=32, epochs=10)"
      ],
      "metadata": {
        "colab": {
          "base_uri": "https://localhost:8080/"
        },
        "id": "xGfLb9FAsOtn",
        "outputId": "f8d1dd13-e42a-413b-8131-c6e488e27756"
      },
      "execution_count": 28,
      "outputs": [
        {
          "output_type": "stream",
          "name": "stdout",
          "text": [
            "Epoch 1/10\n"
          ]
        },
        {
          "output_type": "stream",
          "name": "stderr",
          "text": [
            "/usr/local/lib/python3.9/dist-packages/keras/backend.py:5612: UserWarning: \"`sparse_categorical_crossentropy` received `from_logits=True`, but the `output` argument was produced by a Softmax activation and thus does not represent logits. Was this intended?\n",
            "  output, from_logits = _get_logits(\n"
          ]
        },
        {
          "output_type": "stream",
          "name": "stdout",
          "text": [
            "1563/1563 [==============================] - 11s 5ms/step - loss: 1.5269 - accuracy: 0.4427 - val_loss: 1.1963 - val_accuracy: 0.5733\n",
            "Epoch 2/10\n",
            "1563/1563 [==============================] - 9s 6ms/step - loss: 1.1531 - accuracy: 0.5927 - val_loss: 1.0696 - val_accuracy: 0.6264\n",
            "Epoch 3/10\n",
            "1563/1563 [==============================] - 8s 5ms/step - loss: 1.0064 - accuracy: 0.6488 - val_loss: 0.9963 - val_accuracy: 0.6540\n",
            "Epoch 4/10\n",
            "1563/1563 [==============================] - 8s 5ms/step - loss: 0.9178 - accuracy: 0.6773 - val_loss: 1.0151 - val_accuracy: 0.6473\n",
            "Epoch 5/10\n",
            "1563/1563 [==============================] - 8s 5ms/step - loss: 0.8514 - accuracy: 0.7024 - val_loss: 0.9424 - val_accuracy: 0.6772\n",
            "Epoch 6/10\n",
            "1563/1563 [==============================] - 9s 6ms/step - loss: 0.8026 - accuracy: 0.7168 - val_loss: 0.9174 - val_accuracy: 0.6838\n",
            "Epoch 7/10\n",
            "1563/1563 [==============================] - 10s 6ms/step - loss: 0.7542 - accuracy: 0.7345 - val_loss: 0.8682 - val_accuracy: 0.7096\n",
            "Epoch 8/10\n",
            "1563/1563 [==============================] - 9s 6ms/step - loss: 0.7127 - accuracy: 0.7495 - val_loss: 0.8785 - val_accuracy: 0.7026\n",
            "Epoch 9/10\n",
            "1563/1563 [==============================] - 11s 7ms/step - loss: 0.6724 - accuracy: 0.7645 - val_loss: 0.8887 - val_accuracy: 0.6999\n",
            "Epoch 10/10\n",
            "1563/1563 [==============================] - 10s 7ms/step - loss: 0.6382 - accuracy: 0.7759 - val_loss: 0.9181 - val_accuracy: 0.6942\n"
          ]
        },
        {
          "output_type": "execute_result",
          "data": {
            "text/plain": [
              "<keras.callbacks.History at 0x7f2c14acaa60>"
            ]
          },
          "metadata": {},
          "execution_count": 28
        }
      ]
    },
    {
      "cell_type": "code",
      "source": [],
      "metadata": {
        "id": "FdWxY2XlssXO"
      },
      "execution_count": null,
      "outputs": []
    }
  ]
}